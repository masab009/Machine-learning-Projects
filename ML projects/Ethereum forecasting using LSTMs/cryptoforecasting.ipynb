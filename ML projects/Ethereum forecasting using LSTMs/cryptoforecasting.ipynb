{
  "nbformat": 4,
  "nbformat_minor": 0,
  "metadata": {
    "colab": {
      "provenance": []
    },
    "kernelspec": {
      "name": "python3",
      "display_name": "Python 3"
    },
    "language_info": {
      "name": "python"
    }
  },
  "cells": [
    {
      "cell_type": "code",
      "execution_count": null,
      "metadata": {
        "id": "jtLEwq1p1YAM"
      },
      "outputs": [],
      "source": [
        "import yfinance as yf\n",
        "import numpy as np\n",
        "import tensorflow as tf\n",
        "import seaborn as sns\n",
        "import pandas as pd\n",
        "import matplotlib\n",
        "import matplotlib.pyplot as plt\n",
        "from keras import Sequential\n",
        "from sklearn.preprocessing import StandardScaler\n",
        "from keras.layers import LSTM, Dense, Input, Flatten\n",
        "from sklearn.model_selection import train_test_split\n",
        "import tweepy"
      ]
    },
    {
      "cell_type": "code",
      "source": [
        "tickers = [\"ETH-USD\"]\n",
        "data_of_currencies = yf.download(tickers, period=\"max\")\n",
        "data_of_currencies.tail()"
      ],
      "metadata": {
        "colab": {
          "base_uri": "https://localhost:8080/",
          "height": 255
        },
        "id": "A-V9bl_E23-O",
        "outputId": "fc2b7477-2994-439a-ef7a-ef7361498d1a"
      },
      "execution_count": null,
      "outputs": [
        {
          "output_type": "stream",
          "name": "stderr",
          "text": [
            "\r[*********************100%%**********************]  1 of 1 completed\n"
          ]
        },
        {
          "output_type": "execute_result",
          "data": {
            "text/plain": [
              "                   Open         High          Low        Close    Adj Close  \\\n",
              "Date                                                                          \n",
              "2024-06-27  3368.886230  3470.923096  3362.264648  3444.800537  3444.800537   \n",
              "2024-06-28  3445.498779  3482.957520  3363.437500  3373.635986  3373.635986   \n",
              "2024-06-29  3373.689941  3401.730225  3369.552734  3372.967773  3372.967773   \n",
              "2024-06-30  3373.075684  3453.211426  3352.284424  3432.889160  3432.889160   \n",
              "2024-07-01  3432.607422  3512.434814  3429.810791  3485.025391  3485.025391   \n",
              "\n",
              "                 Volume  \n",
              "Date                     \n",
              "2024-06-27  11771834016  \n",
              "2024-06-28  12861158844  \n",
              "2024-06-29   6584792001  \n",
              "2024-06-30   8396416013  \n",
              "2024-07-01  10312306688  "
            ],
            "text/html": [
              "\n",
              "  <div id=\"df-f6021a6d-0e59-4bed-a296-63a1ad18e037\" class=\"colab-df-container\">\n",
              "    <div>\n",
              "<style scoped>\n",
              "    .dataframe tbody tr th:only-of-type {\n",
              "        vertical-align: middle;\n",
              "    }\n",
              "\n",
              "    .dataframe tbody tr th {\n",
              "        vertical-align: top;\n",
              "    }\n",
              "\n",
              "    .dataframe thead th {\n",
              "        text-align: right;\n",
              "    }\n",
              "</style>\n",
              "<table border=\"1\" class=\"dataframe\">\n",
              "  <thead>\n",
              "    <tr style=\"text-align: right;\">\n",
              "      <th></th>\n",
              "      <th>Open</th>\n",
              "      <th>High</th>\n",
              "      <th>Low</th>\n",
              "      <th>Close</th>\n",
              "      <th>Adj Close</th>\n",
              "      <th>Volume</th>\n",
              "    </tr>\n",
              "    <tr>\n",
              "      <th>Date</th>\n",
              "      <th></th>\n",
              "      <th></th>\n",
              "      <th></th>\n",
              "      <th></th>\n",
              "      <th></th>\n",
              "      <th></th>\n",
              "    </tr>\n",
              "  </thead>\n",
              "  <tbody>\n",
              "    <tr>\n",
              "      <th>2024-06-27</th>\n",
              "      <td>3368.886230</td>\n",
              "      <td>3470.923096</td>\n",
              "      <td>3362.264648</td>\n",
              "      <td>3444.800537</td>\n",
              "      <td>3444.800537</td>\n",
              "      <td>11771834016</td>\n",
              "    </tr>\n",
              "    <tr>\n",
              "      <th>2024-06-28</th>\n",
              "      <td>3445.498779</td>\n",
              "      <td>3482.957520</td>\n",
              "      <td>3363.437500</td>\n",
              "      <td>3373.635986</td>\n",
              "      <td>3373.635986</td>\n",
              "      <td>12861158844</td>\n",
              "    </tr>\n",
              "    <tr>\n",
              "      <th>2024-06-29</th>\n",
              "      <td>3373.689941</td>\n",
              "      <td>3401.730225</td>\n",
              "      <td>3369.552734</td>\n",
              "      <td>3372.967773</td>\n",
              "      <td>3372.967773</td>\n",
              "      <td>6584792001</td>\n",
              "    </tr>\n",
              "    <tr>\n",
              "      <th>2024-06-30</th>\n",
              "      <td>3373.075684</td>\n",
              "      <td>3453.211426</td>\n",
              "      <td>3352.284424</td>\n",
              "      <td>3432.889160</td>\n",
              "      <td>3432.889160</td>\n",
              "      <td>8396416013</td>\n",
              "    </tr>\n",
              "    <tr>\n",
              "      <th>2024-07-01</th>\n",
              "      <td>3432.607422</td>\n",
              "      <td>3512.434814</td>\n",
              "      <td>3429.810791</td>\n",
              "      <td>3485.025391</td>\n",
              "      <td>3485.025391</td>\n",
              "      <td>10312306688</td>\n",
              "    </tr>\n",
              "  </tbody>\n",
              "</table>\n",
              "</div>\n",
              "    <div class=\"colab-df-buttons\">\n",
              "\n",
              "  <div class=\"colab-df-container\">\n",
              "    <button class=\"colab-df-convert\" onclick=\"convertToInteractive('df-f6021a6d-0e59-4bed-a296-63a1ad18e037')\"\n",
              "            title=\"Convert this dataframe to an interactive table.\"\n",
              "            style=\"display:none;\">\n",
              "\n",
              "  <svg xmlns=\"http://www.w3.org/2000/svg\" height=\"24px\" viewBox=\"0 -960 960 960\">\n",
              "    <path d=\"M120-120v-720h720v720H120Zm60-500h600v-160H180v160Zm220 220h160v-160H400v160Zm0 220h160v-160H400v160ZM180-400h160v-160H180v160Zm440 0h160v-160H620v160ZM180-180h160v-160H180v160Zm440 0h160v-160H620v160Z\"/>\n",
              "  </svg>\n",
              "    </button>\n",
              "\n",
              "  <style>\n",
              "    .colab-df-container {\n",
              "      display:flex;\n",
              "      gap: 12px;\n",
              "    }\n",
              "\n",
              "    .colab-df-convert {\n",
              "      background-color: #E8F0FE;\n",
              "      border: none;\n",
              "      border-radius: 50%;\n",
              "      cursor: pointer;\n",
              "      display: none;\n",
              "      fill: #1967D2;\n",
              "      height: 32px;\n",
              "      padding: 0 0 0 0;\n",
              "      width: 32px;\n",
              "    }\n",
              "\n",
              "    .colab-df-convert:hover {\n",
              "      background-color: #E2EBFA;\n",
              "      box-shadow: 0px 1px 2px rgba(60, 64, 67, 0.3), 0px 1px 3px 1px rgba(60, 64, 67, 0.15);\n",
              "      fill: #174EA6;\n",
              "    }\n",
              "\n",
              "    .colab-df-buttons div {\n",
              "      margin-bottom: 4px;\n",
              "    }\n",
              "\n",
              "    [theme=dark] .colab-df-convert {\n",
              "      background-color: #3B4455;\n",
              "      fill: #D2E3FC;\n",
              "    }\n",
              "\n",
              "    [theme=dark] .colab-df-convert:hover {\n",
              "      background-color: #434B5C;\n",
              "      box-shadow: 0px 1px 3px 1px rgba(0, 0, 0, 0.15);\n",
              "      filter: drop-shadow(0px 1px 2px rgba(0, 0, 0, 0.3));\n",
              "      fill: #FFFFFF;\n",
              "    }\n",
              "  </style>\n",
              "\n",
              "    <script>\n",
              "      const buttonEl =\n",
              "        document.querySelector('#df-f6021a6d-0e59-4bed-a296-63a1ad18e037 button.colab-df-convert');\n",
              "      buttonEl.style.display =\n",
              "        google.colab.kernel.accessAllowed ? 'block' : 'none';\n",
              "\n",
              "      async function convertToInteractive(key) {\n",
              "        const element = document.querySelector('#df-f6021a6d-0e59-4bed-a296-63a1ad18e037');\n",
              "        const dataTable =\n",
              "          await google.colab.kernel.invokeFunction('convertToInteractive',\n",
              "                                                    [key], {});\n",
              "        if (!dataTable) return;\n",
              "\n",
              "        const docLinkHtml = 'Like what you see? Visit the ' +\n",
              "          '<a target=\"_blank\" href=https://colab.research.google.com/notebooks/data_table.ipynb>data table notebook</a>'\n",
              "          + ' to learn more about interactive tables.';\n",
              "        element.innerHTML = '';\n",
              "        dataTable['output_type'] = 'display_data';\n",
              "        await google.colab.output.renderOutput(dataTable, element);\n",
              "        const docLink = document.createElement('div');\n",
              "        docLink.innerHTML = docLinkHtml;\n",
              "        element.appendChild(docLink);\n",
              "      }\n",
              "    </script>\n",
              "  </div>\n",
              "\n",
              "\n",
              "<div id=\"df-5c82814c-62e4-4191-9754-ea8cc07c29f8\">\n",
              "  <button class=\"colab-df-quickchart\" onclick=\"quickchart('df-5c82814c-62e4-4191-9754-ea8cc07c29f8')\"\n",
              "            title=\"Suggest charts\"\n",
              "            style=\"display:none;\">\n",
              "\n",
              "<svg xmlns=\"http://www.w3.org/2000/svg\" height=\"24px\"viewBox=\"0 0 24 24\"\n",
              "     width=\"24px\">\n",
              "    <g>\n",
              "        <path d=\"M19 3H5c-1.1 0-2 .9-2 2v14c0 1.1.9 2 2 2h14c1.1 0 2-.9 2-2V5c0-1.1-.9-2-2-2zM9 17H7v-7h2v7zm4 0h-2V7h2v10zm4 0h-2v-4h2v4z\"/>\n",
              "    </g>\n",
              "</svg>\n",
              "  </button>\n",
              "\n",
              "<style>\n",
              "  .colab-df-quickchart {\n",
              "      --bg-color: #E8F0FE;\n",
              "      --fill-color: #1967D2;\n",
              "      --hover-bg-color: #E2EBFA;\n",
              "      --hover-fill-color: #174EA6;\n",
              "      --disabled-fill-color: #AAA;\n",
              "      --disabled-bg-color: #DDD;\n",
              "  }\n",
              "\n",
              "  [theme=dark] .colab-df-quickchart {\n",
              "      --bg-color: #3B4455;\n",
              "      --fill-color: #D2E3FC;\n",
              "      --hover-bg-color: #434B5C;\n",
              "      --hover-fill-color: #FFFFFF;\n",
              "      --disabled-bg-color: #3B4455;\n",
              "      --disabled-fill-color: #666;\n",
              "  }\n",
              "\n",
              "  .colab-df-quickchart {\n",
              "    background-color: var(--bg-color);\n",
              "    border: none;\n",
              "    border-radius: 50%;\n",
              "    cursor: pointer;\n",
              "    display: none;\n",
              "    fill: var(--fill-color);\n",
              "    height: 32px;\n",
              "    padding: 0;\n",
              "    width: 32px;\n",
              "  }\n",
              "\n",
              "  .colab-df-quickchart:hover {\n",
              "    background-color: var(--hover-bg-color);\n",
              "    box-shadow: 0 1px 2px rgba(60, 64, 67, 0.3), 0 1px 3px 1px rgba(60, 64, 67, 0.15);\n",
              "    fill: var(--button-hover-fill-color);\n",
              "  }\n",
              "\n",
              "  .colab-df-quickchart-complete:disabled,\n",
              "  .colab-df-quickchart-complete:disabled:hover {\n",
              "    background-color: var(--disabled-bg-color);\n",
              "    fill: var(--disabled-fill-color);\n",
              "    box-shadow: none;\n",
              "  }\n",
              "\n",
              "  .colab-df-spinner {\n",
              "    border: 2px solid var(--fill-color);\n",
              "    border-color: transparent;\n",
              "    border-bottom-color: var(--fill-color);\n",
              "    animation:\n",
              "      spin 1s steps(1) infinite;\n",
              "  }\n",
              "\n",
              "  @keyframes spin {\n",
              "    0% {\n",
              "      border-color: transparent;\n",
              "      border-bottom-color: var(--fill-color);\n",
              "      border-left-color: var(--fill-color);\n",
              "    }\n",
              "    20% {\n",
              "      border-color: transparent;\n",
              "      border-left-color: var(--fill-color);\n",
              "      border-top-color: var(--fill-color);\n",
              "    }\n",
              "    30% {\n",
              "      border-color: transparent;\n",
              "      border-left-color: var(--fill-color);\n",
              "      border-top-color: var(--fill-color);\n",
              "      border-right-color: var(--fill-color);\n",
              "    }\n",
              "    40% {\n",
              "      border-color: transparent;\n",
              "      border-right-color: var(--fill-color);\n",
              "      border-top-color: var(--fill-color);\n",
              "    }\n",
              "    60% {\n",
              "      border-color: transparent;\n",
              "      border-right-color: var(--fill-color);\n",
              "    }\n",
              "    80% {\n",
              "      border-color: transparent;\n",
              "      border-right-color: var(--fill-color);\n",
              "      border-bottom-color: var(--fill-color);\n",
              "    }\n",
              "    90% {\n",
              "      border-color: transparent;\n",
              "      border-bottom-color: var(--fill-color);\n",
              "    }\n",
              "  }\n",
              "</style>\n",
              "\n",
              "  <script>\n",
              "    async function quickchart(key) {\n",
              "      const quickchartButtonEl =\n",
              "        document.querySelector('#' + key + ' button');\n",
              "      quickchartButtonEl.disabled = true;  // To prevent multiple clicks.\n",
              "      quickchartButtonEl.classList.add('colab-df-spinner');\n",
              "      try {\n",
              "        const charts = await google.colab.kernel.invokeFunction(\n",
              "            'suggestCharts', [key], {});\n",
              "      } catch (error) {\n",
              "        console.error('Error during call to suggestCharts:', error);\n",
              "      }\n",
              "      quickchartButtonEl.classList.remove('colab-df-spinner');\n",
              "      quickchartButtonEl.classList.add('colab-df-quickchart-complete');\n",
              "    }\n",
              "    (() => {\n",
              "      let quickchartButtonEl =\n",
              "        document.querySelector('#df-5c82814c-62e4-4191-9754-ea8cc07c29f8 button');\n",
              "      quickchartButtonEl.style.display =\n",
              "        google.colab.kernel.accessAllowed ? 'block' : 'none';\n",
              "    })();\n",
              "  </script>\n",
              "</div>\n",
              "\n",
              "    </div>\n",
              "  </div>\n"
            ],
            "application/vnd.google.colaboratory.intrinsic+json": {
              "type": "dataframe",
              "summary": "{\n  \"name\": \"data_of_currencies\",\n  \"rows\": 5,\n  \"fields\": [\n    {\n      \"column\": \"Date\",\n      \"properties\": {\n        \"dtype\": \"date\",\n        \"min\": \"2024-06-27 00:00:00\",\n        \"max\": \"2024-07-01 00:00:00\",\n        \"num_unique_values\": 5,\n        \"samples\": [\n          \"2024-06-28 00:00:00\",\n          \"2024-07-01 00:00:00\",\n          \"2024-06-29 00:00:00\"\n        ],\n        \"semantic_type\": \"\",\n        \"description\": \"\"\n      }\n    },\n    {\n      \"column\": \"Open\",\n      \"properties\": {\n        \"dtype\": \"number\",\n        \"std\": 37.11736507032053,\n        \"min\": 3368.88623046875,\n        \"max\": 3445.498779296875,\n        \"num_unique_values\": 5,\n        \"samples\": [\n          3445.498779296875,\n          3432.607421875,\n          3373.68994140625\n        ],\n        \"semantic_type\": \"\",\n        \"description\": \"\"\n      }\n    },\n    {\n      \"column\": \"High\",\n      \"properties\": {\n        \"dtype\": \"number\",\n        \"std\": 41.06960634949159,\n        \"min\": 3401.730224609375,\n        \"max\": 3512.434814453125,\n        \"num_unique_values\": 5,\n        \"samples\": [\n          3482.95751953125,\n          3512.434814453125,\n          3401.730224609375\n        ],\n        \"semantic_type\": \"\",\n        \"description\": \"\"\n      }\n    },\n    {\n      \"column\": \"Low\",\n      \"properties\": {\n        \"dtype\": \"number\",\n        \"std\": 31.002697097348516,\n        \"min\": 3352.284423828125,\n        \"max\": 3429.810791015625,\n        \"num_unique_values\": 5,\n        \"samples\": [\n          3363.4375,\n          3429.810791015625,\n          3369.552734375\n        ],\n        \"semantic_type\": \"\",\n        \"description\": \"\"\n      }\n    },\n    {\n      \"column\": \"Close\",\n      \"properties\": {\n        \"dtype\": \"number\",\n        \"std\": 48.357477268889994,\n        \"min\": 3372.9677734375,\n        \"max\": 3485.025390625,\n        \"num_unique_values\": 5,\n        \"samples\": [\n          3373.635986328125,\n          3485.025390625,\n          3372.9677734375\n        ],\n        \"semantic_type\": \"\",\n        \"description\": \"\"\n      }\n    },\n    {\n      \"column\": \"Adj Close\",\n      \"properties\": {\n        \"dtype\": \"number\",\n        \"std\": 48.357477268889994,\n        \"min\": 3372.9677734375,\n        \"max\": 3485.025390625,\n        \"num_unique_values\": 5,\n        \"samples\": [\n          3373.635986328125,\n          3485.025390625,\n          3372.9677734375\n        ],\n        \"semantic_type\": \"\",\n        \"description\": \"\"\n      }\n    },\n    {\n      \"column\": \"Volume\",\n      \"properties\": {\n        \"dtype\": \"number\",\n        \"std\": 2532647243,\n        \"min\": 6584792001,\n        \"max\": 12861158844,\n        \"num_unique_values\": 5,\n        \"samples\": [\n          12861158844,\n          10312306688,\n          6584792001\n        ],\n        \"semantic_type\": \"\",\n        \"description\": \"\"\n      }\n    }\n  ]\n}"
            }
          },
          "metadata": {},
          "execution_count": 2
        }
      ]
    },
    {
      "cell_type": "code",
      "source": [
        "df=data_of_currencies[\"Close\"]"
      ],
      "metadata": {
        "id": "swAaGD06-xfP"
      },
      "execution_count": null,
      "outputs": []
    },
    {
      "cell_type": "code",
      "source": [
        "df_eth_ = pd.DataFrame(df)\n",
        "df_eth_.shape,len(df_eth_)"
      ],
      "metadata": {
        "colab": {
          "base_uri": "https://localhost:8080/"
        },
        "id": "VHcw4yY-7OM9",
        "outputId": "5c97a9e4-493f-4c19-c987-edbe0011fb36"
      },
      "execution_count": null,
      "outputs": [
        {
          "output_type": "execute_result",
          "data": {
            "text/plain": [
              "((2427, 1), 2427)"
            ]
          },
          "metadata": {},
          "execution_count": 4
        }
      ]
    },
    {
      "cell_type": "code",
      "source": [
        "df_eth_.tail()"
      ],
      "metadata": {
        "colab": {
          "base_uri": "https://localhost:8080/",
          "height": 237
        },
        "id": "W4E_M_1fPYH3",
        "outputId": "fa63aecd-8b06-4f3b-f2f9-321f29616bcf"
      },
      "execution_count": null,
      "outputs": [
        {
          "output_type": "execute_result",
          "data": {
            "text/plain": [
              "                  Close\n",
              "Date                   \n",
              "2024-06-27  3444.800537\n",
              "2024-06-28  3373.635986\n",
              "2024-06-29  3372.967773\n",
              "2024-06-30  3432.889160\n",
              "2024-07-01  3485.025391"
            ],
            "text/html": [
              "\n",
              "  <div id=\"df-74157f2c-b308-4036-ba67-62d389efad69\" class=\"colab-df-container\">\n",
              "    <div>\n",
              "<style scoped>\n",
              "    .dataframe tbody tr th:only-of-type {\n",
              "        vertical-align: middle;\n",
              "    }\n",
              "\n",
              "    .dataframe tbody tr th {\n",
              "        vertical-align: top;\n",
              "    }\n",
              "\n",
              "    .dataframe thead th {\n",
              "        text-align: right;\n",
              "    }\n",
              "</style>\n",
              "<table border=\"1\" class=\"dataframe\">\n",
              "  <thead>\n",
              "    <tr style=\"text-align: right;\">\n",
              "      <th></th>\n",
              "      <th>Close</th>\n",
              "    </tr>\n",
              "    <tr>\n",
              "      <th>Date</th>\n",
              "      <th></th>\n",
              "    </tr>\n",
              "  </thead>\n",
              "  <tbody>\n",
              "    <tr>\n",
              "      <th>2024-06-27</th>\n",
              "      <td>3444.800537</td>\n",
              "    </tr>\n",
              "    <tr>\n",
              "      <th>2024-06-28</th>\n",
              "      <td>3373.635986</td>\n",
              "    </tr>\n",
              "    <tr>\n",
              "      <th>2024-06-29</th>\n",
              "      <td>3372.967773</td>\n",
              "    </tr>\n",
              "    <tr>\n",
              "      <th>2024-06-30</th>\n",
              "      <td>3432.889160</td>\n",
              "    </tr>\n",
              "    <tr>\n",
              "      <th>2024-07-01</th>\n",
              "      <td>3485.025391</td>\n",
              "    </tr>\n",
              "  </tbody>\n",
              "</table>\n",
              "</div>\n",
              "    <div class=\"colab-df-buttons\">\n",
              "\n",
              "  <div class=\"colab-df-container\">\n",
              "    <button class=\"colab-df-convert\" onclick=\"convertToInteractive('df-74157f2c-b308-4036-ba67-62d389efad69')\"\n",
              "            title=\"Convert this dataframe to an interactive table.\"\n",
              "            style=\"display:none;\">\n",
              "\n",
              "  <svg xmlns=\"http://www.w3.org/2000/svg\" height=\"24px\" viewBox=\"0 -960 960 960\">\n",
              "    <path d=\"M120-120v-720h720v720H120Zm60-500h600v-160H180v160Zm220 220h160v-160H400v160Zm0 220h160v-160H400v160ZM180-400h160v-160H180v160Zm440 0h160v-160H620v160ZM180-180h160v-160H180v160Zm440 0h160v-160H620v160Z\"/>\n",
              "  </svg>\n",
              "    </button>\n",
              "\n",
              "  <style>\n",
              "    .colab-df-container {\n",
              "      display:flex;\n",
              "      gap: 12px;\n",
              "    }\n",
              "\n",
              "    .colab-df-convert {\n",
              "      background-color: #E8F0FE;\n",
              "      border: none;\n",
              "      border-radius: 50%;\n",
              "      cursor: pointer;\n",
              "      display: none;\n",
              "      fill: #1967D2;\n",
              "      height: 32px;\n",
              "      padding: 0 0 0 0;\n",
              "      width: 32px;\n",
              "    }\n",
              "\n",
              "    .colab-df-convert:hover {\n",
              "      background-color: #E2EBFA;\n",
              "      box-shadow: 0px 1px 2px rgba(60, 64, 67, 0.3), 0px 1px 3px 1px rgba(60, 64, 67, 0.15);\n",
              "      fill: #174EA6;\n",
              "    }\n",
              "\n",
              "    .colab-df-buttons div {\n",
              "      margin-bottom: 4px;\n",
              "    }\n",
              "\n",
              "    [theme=dark] .colab-df-convert {\n",
              "      background-color: #3B4455;\n",
              "      fill: #D2E3FC;\n",
              "    }\n",
              "\n",
              "    [theme=dark] .colab-df-convert:hover {\n",
              "      background-color: #434B5C;\n",
              "      box-shadow: 0px 1px 3px 1px rgba(0, 0, 0, 0.15);\n",
              "      filter: drop-shadow(0px 1px 2px rgba(0, 0, 0, 0.3));\n",
              "      fill: #FFFFFF;\n",
              "    }\n",
              "  </style>\n",
              "\n",
              "    <script>\n",
              "      const buttonEl =\n",
              "        document.querySelector('#df-74157f2c-b308-4036-ba67-62d389efad69 button.colab-df-convert');\n",
              "      buttonEl.style.display =\n",
              "        google.colab.kernel.accessAllowed ? 'block' : 'none';\n",
              "\n",
              "      async function convertToInteractive(key) {\n",
              "        const element = document.querySelector('#df-74157f2c-b308-4036-ba67-62d389efad69');\n",
              "        const dataTable =\n",
              "          await google.colab.kernel.invokeFunction('convertToInteractive',\n",
              "                                                    [key], {});\n",
              "        if (!dataTable) return;\n",
              "\n",
              "        const docLinkHtml = 'Like what you see? Visit the ' +\n",
              "          '<a target=\"_blank\" href=https://colab.research.google.com/notebooks/data_table.ipynb>data table notebook</a>'\n",
              "          + ' to learn more about interactive tables.';\n",
              "        element.innerHTML = '';\n",
              "        dataTable['output_type'] = 'display_data';\n",
              "        await google.colab.output.renderOutput(dataTable, element);\n",
              "        const docLink = document.createElement('div');\n",
              "        docLink.innerHTML = docLinkHtml;\n",
              "        element.appendChild(docLink);\n",
              "      }\n",
              "    </script>\n",
              "  </div>\n",
              "\n",
              "\n",
              "<div id=\"df-13edd8e5-f3b8-41e4-8b1e-f360ca5ade0a\">\n",
              "  <button class=\"colab-df-quickchart\" onclick=\"quickchart('df-13edd8e5-f3b8-41e4-8b1e-f360ca5ade0a')\"\n",
              "            title=\"Suggest charts\"\n",
              "            style=\"display:none;\">\n",
              "\n",
              "<svg xmlns=\"http://www.w3.org/2000/svg\" height=\"24px\"viewBox=\"0 0 24 24\"\n",
              "     width=\"24px\">\n",
              "    <g>\n",
              "        <path d=\"M19 3H5c-1.1 0-2 .9-2 2v14c0 1.1.9 2 2 2h14c1.1 0 2-.9 2-2V5c0-1.1-.9-2-2-2zM9 17H7v-7h2v7zm4 0h-2V7h2v10zm4 0h-2v-4h2v4z\"/>\n",
              "    </g>\n",
              "</svg>\n",
              "  </button>\n",
              "\n",
              "<style>\n",
              "  .colab-df-quickchart {\n",
              "      --bg-color: #E8F0FE;\n",
              "      --fill-color: #1967D2;\n",
              "      --hover-bg-color: #E2EBFA;\n",
              "      --hover-fill-color: #174EA6;\n",
              "      --disabled-fill-color: #AAA;\n",
              "      --disabled-bg-color: #DDD;\n",
              "  }\n",
              "\n",
              "  [theme=dark] .colab-df-quickchart {\n",
              "      --bg-color: #3B4455;\n",
              "      --fill-color: #D2E3FC;\n",
              "      --hover-bg-color: #434B5C;\n",
              "      --hover-fill-color: #FFFFFF;\n",
              "      --disabled-bg-color: #3B4455;\n",
              "      --disabled-fill-color: #666;\n",
              "  }\n",
              "\n",
              "  .colab-df-quickchart {\n",
              "    background-color: var(--bg-color);\n",
              "    border: none;\n",
              "    border-radius: 50%;\n",
              "    cursor: pointer;\n",
              "    display: none;\n",
              "    fill: var(--fill-color);\n",
              "    height: 32px;\n",
              "    padding: 0;\n",
              "    width: 32px;\n",
              "  }\n",
              "\n",
              "  .colab-df-quickchart:hover {\n",
              "    background-color: var(--hover-bg-color);\n",
              "    box-shadow: 0 1px 2px rgba(60, 64, 67, 0.3), 0 1px 3px 1px rgba(60, 64, 67, 0.15);\n",
              "    fill: var(--button-hover-fill-color);\n",
              "  }\n",
              "\n",
              "  .colab-df-quickchart-complete:disabled,\n",
              "  .colab-df-quickchart-complete:disabled:hover {\n",
              "    background-color: var(--disabled-bg-color);\n",
              "    fill: var(--disabled-fill-color);\n",
              "    box-shadow: none;\n",
              "  }\n",
              "\n",
              "  .colab-df-spinner {\n",
              "    border: 2px solid var(--fill-color);\n",
              "    border-color: transparent;\n",
              "    border-bottom-color: var(--fill-color);\n",
              "    animation:\n",
              "      spin 1s steps(1) infinite;\n",
              "  }\n",
              "\n",
              "  @keyframes spin {\n",
              "    0% {\n",
              "      border-color: transparent;\n",
              "      border-bottom-color: var(--fill-color);\n",
              "      border-left-color: var(--fill-color);\n",
              "    }\n",
              "    20% {\n",
              "      border-color: transparent;\n",
              "      border-left-color: var(--fill-color);\n",
              "      border-top-color: var(--fill-color);\n",
              "    }\n",
              "    30% {\n",
              "      border-color: transparent;\n",
              "      border-left-color: var(--fill-color);\n",
              "      border-top-color: var(--fill-color);\n",
              "      border-right-color: var(--fill-color);\n",
              "    }\n",
              "    40% {\n",
              "      border-color: transparent;\n",
              "      border-right-color: var(--fill-color);\n",
              "      border-top-color: var(--fill-color);\n",
              "    }\n",
              "    60% {\n",
              "      border-color: transparent;\n",
              "      border-right-color: var(--fill-color);\n",
              "    }\n",
              "    80% {\n",
              "      border-color: transparent;\n",
              "      border-right-color: var(--fill-color);\n",
              "      border-bottom-color: var(--fill-color);\n",
              "    }\n",
              "    90% {\n",
              "      border-color: transparent;\n",
              "      border-bottom-color: var(--fill-color);\n",
              "    }\n",
              "  }\n",
              "</style>\n",
              "\n",
              "  <script>\n",
              "    async function quickchart(key) {\n",
              "      const quickchartButtonEl =\n",
              "        document.querySelector('#' + key + ' button');\n",
              "      quickchartButtonEl.disabled = true;  // To prevent multiple clicks.\n",
              "      quickchartButtonEl.classList.add('colab-df-spinner');\n",
              "      try {\n",
              "        const charts = await google.colab.kernel.invokeFunction(\n",
              "            'suggestCharts', [key], {});\n",
              "      } catch (error) {\n",
              "        console.error('Error during call to suggestCharts:', error);\n",
              "      }\n",
              "      quickchartButtonEl.classList.remove('colab-df-spinner');\n",
              "      quickchartButtonEl.classList.add('colab-df-quickchart-complete');\n",
              "    }\n",
              "    (() => {\n",
              "      let quickchartButtonEl =\n",
              "        document.querySelector('#df-13edd8e5-f3b8-41e4-8b1e-f360ca5ade0a button');\n",
              "      quickchartButtonEl.style.display =\n",
              "        google.colab.kernel.accessAllowed ? 'block' : 'none';\n",
              "    })();\n",
              "  </script>\n",
              "</div>\n",
              "\n",
              "    </div>\n",
              "  </div>\n"
            ],
            "application/vnd.google.colaboratory.intrinsic+json": {
              "type": "dataframe",
              "summary": "{\n  \"name\": \"df_eth_\",\n  \"rows\": 5,\n  \"fields\": [\n    {\n      \"column\": \"Date\",\n      \"properties\": {\n        \"dtype\": \"date\",\n        \"min\": \"2024-06-27 00:00:00\",\n        \"max\": \"2024-07-01 00:00:00\",\n        \"num_unique_values\": 5,\n        \"samples\": [\n          \"2024-06-28 00:00:00\",\n          \"2024-07-01 00:00:00\",\n          \"2024-06-29 00:00:00\"\n        ],\n        \"semantic_type\": \"\",\n        \"description\": \"\"\n      }\n    },\n    {\n      \"column\": \"Close\",\n      \"properties\": {\n        \"dtype\": \"number\",\n        \"std\": 48.357477268889994,\n        \"min\": 3372.9677734375,\n        \"max\": 3485.025390625,\n        \"num_unique_values\": 5,\n        \"samples\": [\n          3373.635986328125,\n          3485.025390625,\n          3372.9677734375\n        ],\n        \"semantic_type\": \"\",\n        \"description\": \"\"\n      }\n    }\n  ]\n}"
            }
          },
          "metadata": {},
          "execution_count": 5
        }
      ]
    },
    {
      "cell_type": "code",
      "source": [
        "#for ETH-USD\n",
        "plt.figure(figsize=(14,7))\n",
        "sns.lineplot(data=df_eth_,x=df_eth_.index,y=\"Close\")\n",
        "plt.title(\"closing price per day for ethereum from 2017 to 2024\")\n",
        "plt.xlabel(\"time\")\n",
        "plt.ylabel(\"closing price\")\n",
        "plt.show()"
      ],
      "metadata": {
        "colab": {
          "base_uri": "https://localhost:8080/",
          "height": 634
        },
        "id": "fJYF_gJq440W",
        "outputId": "2c509a09-96a0-4dd1-ce1d-973249ab2b77"
      },
      "execution_count": null,
      "outputs": [
        {
          "output_type": "display_data",
          "data": {
            "text/plain": [
              "<Figure size 1400x700 with 1 Axes>"
            ],
            "image/png": "[encoded data removed]"
          },
          "metadata": {}
        }
      ]
    },
    {
      "cell_type": "code",
      "source": [],
      "metadata": {
        "id": "PzI_oXABEw6O"
      },
      "execution_count": null,
      "outputs": []
    },
    {
      "cell_type": "code",
      "source": [
        "def make_windows(data,window_size,stride):\n",
        "  x = []\n",
        "  y = []\n",
        "  for i in range(window_size,len(data),stride):\n",
        "    current_window = data.iloc[i-window_size:i,:].values\n",
        "    x.append(current_window)\n",
        "    y.append(data.iloc[i, :].values)\n",
        "  return np.array(x),np.array(y)\n",
        "X,Y = make_windows(df_eth_,window_size=15,stride=1)\n",
        "print(X.shape)\n",
        "print(Y.shape)"
      ],
      "metadata": {
        "colab": {
          "base_uri": "https://localhost:8080/"
        },
        "id": "tjT3sheZIRUb",
        "outputId": "79387cb6-9b1e-435b-ddf9-e9c3d454b632"
      },
      "execution_count": null,
      "outputs": [
        {
          "output_type": "stream",
          "name": "stdout",
          "text": [
            "(2412, 15, 1)\n",
            "(2412, 1)\n"
          ]
        }
      ]
    },
    {
      "cell_type": "code",
      "source": [
        "def Scale_data(X_train, X_test, y_train, y_test):\n",
        "    scaler_X = StandardScaler()\n",
        "    scaler_y = StandardScaler()\n",
        "\n",
        "    # Fit only on the training data\n",
        "    X_train_reshaped = X_train.reshape(X_train.shape[0] * X_train.shape[1], X_train.shape[2])\n",
        "    X_train_scaled = scaler_X.fit_transform(X_train_reshaped).reshape(X_train.shape)\n",
        "    y_train_scaled = scaler_y.fit_transform(y_train)\n",
        "\n",
        "    # Transform the test data using the same scaler\n",
        "    X_test_reshaped = X_test.reshape(X_test.shape[0] * X_test.shape[1], X_test.shape[2])\n",
        "    X_test_scaled = scaler_X.transform(X_test_reshaped).reshape(X_test.shape)\n",
        "    y_test_scaled = scaler_y.transform(y_test)\n",
        "\n",
        "    return X_train_scaled, X_test_scaled, y_train_scaled, y_test_scaled, scaler_X, scaler_y\n"
      ],
      "metadata": {
        "id": "xWtLteSkS89F"
      },
      "execution_count": null,
      "outputs": []
    },
    {
      "cell_type": "code",
      "source": [
        "X_train,X_test,y_train,y_test = train_test_split(X,Y,test_size=0.20,shuffle=False)\n",
        "print(X_train.shape)\n",
        "print(X_test.shape)\n",
        "print(y_train.shape)\n",
        "print(y_test.shape)"
      ],
      "metadata": {
        "colab": {
          "base_uri": "https://localhost:8080/"
        },
        "id": "Aedr6vPZOmtO",
        "outputId": "d12cbd74-ba91-4117-ad09-c76da350697c"
      },
      "execution_count": null,
      "outputs": [
        {
          "output_type": "stream",
          "name": "stdout",
          "text": [
            "(1929, 15, 1)\n",
            "(483, 15, 1)\n",
            "(1929, 1)\n",
            "(483, 1)\n"
          ]
        }
      ]
    },
    {
      "cell_type": "code",
      "source": [
        "X_train_scaled,X_test_scaled,y_train_scaled,y_test_scaled,scaler_X,scaler_Y = Scale_data(X_train,X_test,y_train,y_test)\n",
        "print(X_train_scaled.shape)\n",
        "print(X_test_scaled.shape)\n",
        "print(y_train_scaled.shape)\n",
        "print(y_test_scaled.shape)"
      ],
      "metadata": {
        "colab": {
          "base_uri": "https://localhost:8080/"
        },
        "id": "tvNp9nciP3Pd",
        "outputId": "40a9e38e-edaa-4c5e-bb81-e5719736a626"
      },
      "execution_count": null,
      "outputs": [
        {
          "output_type": "stream",
          "name": "stdout",
          "text": [
            "(1929, 15, 1)\n",
            "(483, 15, 1)\n",
            "(1929, 1)\n",
            "(483, 1)\n"
          ]
        }
      ]
    },
    {
      "cell_type": "code",
      "source": [
        "model = Sequential()\n",
        "model.add(Input(shape=(X_train.shape[1],X_train.shape[2])))\n",
        "model.add(LSTM(64,activation=\"relu\",return_sequences=True))\n",
        "model.add(LSTM(32,activation=\"relu\",return_sequences=True))\n",
        "model.add(LSTM(16,activation=\"relu\"))\n",
        "model.add(Dense(84,activation=\"relu\"))\n",
        "model.add(Dense(32,activation=\"relu\"))\n",
        "model.add(Dense(units=y_train.shape[1]))\n",
        "model.compile(optimizer=\"adam\",loss=\"mean_squared_error\",metrics=[\"mae\"])"
      ],
      "metadata": {
        "id": "tSCAnarIXvFE"
      },
      "execution_count": null,
      "outputs": []
    },
    {
      "cell_type": "code",
      "source": [
        "model.fit(X_train_scaled,y_train_scaled,epochs = 50,batch_size =32)"
      ],
      "metadata": {
        "colab": {
          "base_uri": "https://localhost:8080/"
        },
        "id": "AVJxIJN6bcTE",
        "outputId": "00b793dd-e03c-461c-cc99-e693e344d803"
      },
      "execution_count": null,
      "outputs": [
        {
          "output_type": "stream",
          "name": "stdout",
          "text": [
            "Epoch 1/50\n",
            "61/61 [==============================] - 6s 23ms/step - loss: 0.3885 - mae: 0.4361\n",
            "Epoch 2/50\n",
            "61/61 [==============================] - 1s 25ms/step - loss: 0.0380 - mae: 0.1167\n",
            "Epoch 3/50\n",
            "61/61 [==============================] - 1s 24ms/step - loss: 0.0299 - mae: 0.1004\n",
            "Epoch 4/50\n",
            "61/61 [==============================] - 3s 41ms/step - loss: 0.0236 - mae: 0.0970\n",
            "Epoch 5/50\n",
            "61/61 [==============================] - 2s 36ms/step - loss: 0.0209 - mae: 0.0909\n",
            "Epoch 6/50\n",
            "61/61 [==============================] - 1s 24ms/step - loss: 0.0168 - mae: 0.0805\n",
            "Epoch 7/50\n",
            "61/61 [==============================] - 1s 24ms/step - loss: 0.0161 - mae: 0.0787\n",
            "Epoch 8/50\n",
            "61/61 [==============================] - 1s 24ms/step - loss: 0.0160 - mae: 0.0803\n",
            "Epoch 9/50\n",
            "61/61 [==============================] - 2s 25ms/step - loss: 0.0151 - mae: 0.0803\n",
            "Epoch 10/50\n",
            "61/61 [==============================] - 2s 25ms/step - loss: 0.0140 - mae: 0.0743\n",
            "Epoch 11/50\n",
            "61/61 [==============================] - 2s 25ms/step - loss: 0.0140 - mae: 0.0752\n",
            "Epoch 12/50\n",
            "61/61 [==============================] - 2s 34ms/step - loss: 0.0107 - mae: 0.0660\n",
            "Epoch 13/50\n",
            "61/61 [==============================] - 3s 41ms/step - loss: 0.0102 - mae: 0.0654\n",
            "Epoch 14/50\n",
            "61/61 [==============================] - 1s 24ms/step - loss: 0.0098 - mae: 0.0644\n",
            "Epoch 15/50\n",
            "61/61 [==============================] - 1s 24ms/step - loss: 0.0088 - mae: 0.0609\n",
            "Epoch 16/50\n",
            "61/61 [==============================] - 1s 24ms/step - loss: 0.0096 - mae: 0.0661\n",
            "Epoch 17/50\n",
            "61/61 [==============================] - 2s 25ms/step - loss: 0.0090 - mae: 0.0627\n",
            "Epoch 18/50\n",
            "61/61 [==============================] - 1s 24ms/step - loss: 0.0093 - mae: 0.0628\n",
            "Epoch 19/50\n",
            "61/61 [==============================] - 2s 24ms/step - loss: 0.0104 - mae: 0.0683\n",
            "Epoch 20/50\n",
            "61/61 [==============================] - 2s 32ms/step - loss: 0.0090 - mae: 0.0601\n",
            "Epoch 21/50\n",
            "61/61 [==============================] - 2s 39ms/step - loss: 0.0071 - mae: 0.0531\n",
            "Epoch 22/50\n",
            "61/61 [==============================] - 2s 28ms/step - loss: 0.0080 - mae: 0.0566\n",
            "Epoch 23/50\n",
            "61/61 [==============================] - 2s 25ms/step - loss: 0.0068 - mae: 0.0532\n",
            "Epoch 24/50\n",
            "61/61 [==============================] - 2s 25ms/step - loss: 0.0079 - mae: 0.0566\n",
            "Epoch 25/50\n",
            "61/61 [==============================] - 1s 24ms/step - loss: 0.0078 - mae: 0.0578\n",
            "Epoch 26/50\n",
            "61/61 [==============================] - 2s 25ms/step - loss: 0.0063 - mae: 0.0488\n",
            "Epoch 27/50\n",
            "61/61 [==============================] - 1s 24ms/step - loss: 0.0073 - mae: 0.0570\n",
            "Epoch 28/50\n",
            "61/61 [==============================] - 2s 29ms/step - loss: 0.0063 - mae: 0.0497\n",
            "Epoch 29/50\n",
            "61/61 [==============================] - 2s 39ms/step - loss: 0.0059 - mae: 0.0474\n",
            "Epoch 30/50\n",
            "61/61 [==============================] - 2s 31ms/step - loss: 0.0076 - mae: 0.0560\n",
            "Epoch 31/50\n",
            "61/61 [==============================] - 2s 25ms/step - loss: 0.0073 - mae: 0.0559\n",
            "Epoch 32/50\n",
            "61/61 [==============================] - 1s 24ms/step - loss: 0.0072 - mae: 0.0561\n",
            "Epoch 33/50\n",
            "61/61 [==============================] - 2s 25ms/step - loss: 0.0063 - mae: 0.0503\n",
            "Epoch 34/50\n",
            "61/61 [==============================] - 2s 25ms/step - loss: 0.0066 - mae: 0.0516\n",
            "Epoch 35/50\n",
            "61/61 [==============================] - 2s 26ms/step - loss: 0.0069 - mae: 0.0532\n",
            "Epoch 36/50\n",
            "61/61 [==============================] - 2s 29ms/step - loss: 0.0057 - mae: 0.0454\n",
            "Epoch 37/50\n",
            "61/61 [==============================] - 3s 41ms/step - loss: 0.0062 - mae: 0.0512\n",
            "Epoch 38/50\n",
            "61/61 [==============================] - 2s 32ms/step - loss: 0.0066 - mae: 0.0522\n",
            "Epoch 39/50\n",
            "61/61 [==============================] - 2s 29ms/step - loss: 0.0061 - mae: 0.0500\n",
            "Epoch 40/50\n",
            "61/61 [==============================] - 2s 27ms/step - loss: 0.0066 - mae: 0.0508\n",
            "Epoch 41/50\n",
            "61/61 [==============================] - 2s 25ms/step - loss: 0.0062 - mae: 0.0501\n",
            "Epoch 42/50\n",
            "61/61 [==============================] - 2s 35ms/step - loss: 0.0063 - mae: 0.0493\n",
            "Epoch 43/50\n",
            "61/61 [==============================] - 3s 45ms/step - loss: 0.0073 - mae: 0.0572\n",
            "Epoch 44/50\n",
            "61/61 [==============================] - 3s 43ms/step - loss: 0.0059 - mae: 0.0477\n",
            "Epoch 45/50\n",
            "61/61 [==============================] - 3s 42ms/step - loss: 0.0058 - mae: 0.0468\n",
            "Epoch 46/50\n",
            "61/61 [==============================] - 2s 26ms/step - loss: 0.0055 - mae: 0.0442\n",
            "Epoch 47/50\n",
            "61/61 [==============================] - 2s 26ms/step - loss: 0.0057 - mae: 0.0475\n",
            "Epoch 48/50\n",
            "61/61 [==============================] - 2s 26ms/step - loss: 0.0065 - mae: 0.0498\n",
            "Epoch 49/50\n",
            "61/61 [==============================] - 2s 26ms/step - loss: 0.0067 - mae: 0.0533\n",
            "Epoch 50/50\n",
            "61/61 [==============================] - 2s 25ms/step - loss: 0.0054 - mae: 0.0462\n"
          ]
        },
        {
          "output_type": "execute_result",
          "data": {
            "text/plain": [
              "<keras.src.callbacks.History at 0x7c91a0259810>"
            ]
          },
          "metadata": {},
          "execution_count": 12
        }
      ]
    },
    {
      "cell_type": "code",
      "source": [
        "model.evaluate(X_test_scaled,y_test_scaled,batch_size=32)"
      ],
      "metadata": {
        "colab": {
          "base_uri": "https://localhost:8080/"
        },
        "id": "hPFgbpZfcRz2",
        "outputId": "06088b10-d947-48b2-8783-5fa76301f2d2"
      },
      "execution_count": null,
      "outputs": [
        {
          "output_type": "stream",
          "name": "stdout",
          "text": [
            "16/16 [==============================] - 1s 7ms/step - loss: 0.0086 - mae: 0.0718\n"
          ]
        },
        {
          "output_type": "execute_result",
          "data": {
            "text/plain": [
              "[0.008603359572589397, 0.07184004038572311]"
            ]
          },
          "metadata": {},
          "execution_count": 13
        }
      ]
    },
    {
      "cell_type": "code",
      "source": [
        "print(df_eth_[\"Close\"].iloc[-15:])\n",
        "values_for_prediction = np.array(df_eth_[\"Close\"].iloc[-15:])\n",
        "print(values_for_prediction)\n",
        "values_for_prediction=scaler_X.transform(values_for_prediction.reshape(-1,1))\n",
        "prediction=model.predict(values_for_prediction.reshape(1,15,1))\n",
        "prediction = scaler_Y.inverse_transform(prediction)\n",
        "print(f\"Predictions for tommorow closing price: \",np.squeeze(prediction))"
      ],
      "metadata": {
        "colab": {
          "base_uri": "https://localhost:8080/"
        },
        "id": "UskOaTSY_Gg6",
        "outputId": "49ce2fc1-7536-46f9-aa27-ca504e28d633"
      },
      "execution_count": null,
      "outputs": [
        {
          "output_type": "stream",
          "name": "stdout",
          "text": [
            "Date\n",
            "2024-06-17    3511.378906\n",
            "2024-06-18    3483.681396\n",
            "2024-06-19    3559.347412\n",
            "2024-06-20    3511.086914\n",
            "2024-06-21    3516.075684\n",
            "2024-06-22    3494.813477\n",
            "2024-06-23    3418.611816\n",
            "2024-06-24    3350.256348\n",
            "2024-06-25    3395.029053\n",
            "2024-06-26    3369.477295\n",
            "2024-06-27    3444.800537\n",
            "2024-06-28    3373.635986\n",
            "2024-06-29    3372.967773\n",
            "2024-06-30    3432.889160\n",
            "2024-07-01    3485.025391\n",
            "Name: Close, dtype: float64\n",
            "[3511.37890625 3483.68139648 3559.34741211 3511.08691406 3516.07568359\n",
            " 3494.81347656 3418.61181641 3350.25634766 3395.02905273 3369.47729492\n",
            " 3444.80053711 3373.63598633 3372.96777344 3432.88916016 3485.02539062]\n",
            "1/1 [==============================] - 0s 59ms/step\n",
            "Predictions for tommorow closing price:  3372.776\n"
          ]
        }
      ]
    },
    {
      "cell_type": "code",
      "source": [],
      "metadata": {
        "id": "sqS5emh9CnTg"
      },
      "execution_count": null,
      "outputs": []
    },
    {
      "cell_type": "code",
      "source": [
        "# Predict on the test data\n",
        "y_pred_scaled = model.predict(X_test_scaled, batch_size=32)\n",
        "\n",
        "# Inverse transform the predictions and actual values\n",
        "y_pred = scaler_Y.inverse_transform(y_pred_scaled)\n",
        "y_test = scaler_Y.inverse_transform(y_test_scaled)\n",
        "\n",
        "from sklearn.metrics import mean_squared_error, mean_absolute_error\n",
        "\n",
        "mse = mean_squared_error(y_test, y_pred)\n",
        "mae = mean_absolute_error(y_test, y_pred)\n",
        "\n",
        "print(f\"Mean Squared Error (original scale): {mse}\")\n",
        "print(f\"Mean Absolute Error (original scale): {mae}\")\n"
      ],
      "metadata": {
        "colab": {
          "base_uri": "https://localhost:8080/"
        },
        "id": "DIOFg7-w4gRi",
        "outputId": "1b032236-eff1-4392-80e6-dd55badd1677"
      },
      "execution_count": null,
      "outputs": [
        {
          "output_type": "stream",
          "name": "stdout",
          "text": [
            "16/16 [==============================] - 0s 6ms/step\n",
            "Mean Squared Error (original scale): 9180.427580886317\n",
            "Mean Absolute Error (original scale): 71.8803870821693\n"
          ]
        }
      ]
    },
    {
      "cell_type": "code",
      "source": [
        "# Plot the predictions and actual values\n",
        "plt.figure(figsize=(14, 7))\n",
        "plt.plot(y_test[:, 0], label='Actual Values')\n",
        "plt.plot(y_pred[:, 0], label='Predicted Values')\n",
        "plt.xlabel('Time')\n",
        "plt.ylabel('Value')\n",
        "plt.title('Actual vs Predicted Values for ethereum')\n",
        "plt.legend()\n",
        "plt.show()"
      ],
      "metadata": {
        "colab": {
          "base_uri": "https://localhost:8080/",
          "height": 377
        },
        "id": "zP-gzy9F5vM9",
        "outputId": "dbf8686a-c11b-446b-a3e0-6e07b47f52e1"
      },
      "execution_count": null,
      "outputs": [
        {
          "output_type": "display_data",
          "data": {
            "text/plain": [
              "<Figure size 1400x700 with 1 Axes>"
            ],
            "image/png": "[encoded data removed]"
          },
          "metadata": {}
        }
      ]
    },
    {
      "cell_type": "code",
      "source": [
        "!pip install selenium"
      ],
      "metadata": {
        "colab": {
          "base_uri": "https://localhost:8080/"
        },
        "id": "kaC0q-cTl3n-",
        "outputId": "4f0e3b2e-b0c9-401a-f574-a4d5bb4b2f26"
      },
      "execution_count": null,
      "outputs": [
        {
          "output_type": "stream",
          "name": "stdout",
          "text": [
            "Collecting selenium\n",
            "  Downloading selenium-4.22.0-py3-none-any.whl (9.4 MB)\n",
            "\u001b[2K     \u001b[90m━━━━━━━━━━━━━━━━━━━━━━━━━━━━━━━━━━━━━━━━\u001b[0m \u001b[32m9.4/9.4 MB\u001b[0m \u001b[31m16.3 MB/s\u001b[0m eta \u001b[36m0:00:00\u001b[0m\n",
            "\u001b[?25hRequirement already satisfied: urllib3[socks]<3,>=1.26 in /usr/local/lib/python3.10/dist-packages (from selenium) (2.0.7)\n",
            "Collecting trio~=0.17 (from selenium)\n",
            "  Downloading trio-0.25.1-py3-none-any.whl (467 kB)\n",
            "\u001b[2K     \u001b[90m━━━━━━━━━━━━━━━━━━━━━━━━━━━━━━━━━━━━━━━━\u001b[0m \u001b[32m467.7/467.7 kB\u001b[0m \u001b[31m34.7 MB/s\u001b[0m eta \u001b[36m0:00:00\u001b[0m\n",
            "\u001b[?25hCollecting trio-websocket~=0.9 (from selenium)\n",
            "  Downloading trio_websocket-0.11.1-py3-none-any.whl (17 kB)\n",
            "Requirement already satisfied: certifi>=2021.10.8 in /usr/local/lib/python3.10/dist-packages (from selenium) (2024.6.2)\n",
            "Requirement already satisfied: typing_extensions>=4.9.0 in /usr/local/lib/python3.10/dist-packages (from selenium) (4.12.2)\n",
            "Requirement already satisfied: websocket-client>=1.8.0 in /usr/local/lib/python3.10/dist-packages (from selenium) (1.8.0)\n",
            "Requirement already satisfied: attrs>=23.2.0 in /usr/local/lib/python3.10/dist-packages (from trio~=0.17->selenium) (23.2.0)\n",
            "Requirement already satisfied: sortedcontainers in /usr/local/lib/python3.10/dist-packages (from trio~=0.17->selenium) (2.4.0)\n",
            "Requirement already satisfied: idna in /usr/local/lib/python3.10/dist-packages (from trio~=0.17->selenium) (3.7)\n",
            "Collecting outcome (from trio~=0.17->selenium)\n",
            "  Downloading outcome-1.3.0.post0-py2.py3-none-any.whl (10 kB)\n",
            "Requirement already satisfied: sniffio>=1.3.0 in /usr/local/lib/python3.10/dist-packages (from trio~=0.17->selenium) (1.3.1)\n",
            "Requirement already satisfied: exceptiongroup in /usr/local/lib/python3.10/dist-packages (from trio~=0.17->selenium) (1.2.1)\n",
            "Collecting wsproto>=0.14 (from trio-websocket~=0.9->selenium)\n",
            "  Downloading wsproto-1.2.0-py3-none-any.whl (24 kB)\n",
            "Requirement already satisfied: pysocks!=1.5.7,<2.0,>=1.5.6 in /usr/local/lib/python3.10/dist-packages (from urllib3[socks]<3,>=1.26->selenium) (1.7.1)\n",
            "Collecting h11<1,>=0.9.0 (from wsproto>=0.14->trio-websocket~=0.9->selenium)\n",
            "  Downloading h11-0.14.0-py3-none-any.whl (58 kB)\n",
            "\u001b[2K     \u001b[90m━━━━━━━━━━━━━━━━━━━━━━━━━━━━━━━━━━━━━━━━\u001b[0m \u001b[32m58.3/58.3 kB\u001b[0m \u001b[31m7.6 MB/s\u001b[0m eta \u001b[36m0:00:00\u001b[0m\n",
            "\u001b[?25hInstalling collected packages: outcome, h11, wsproto, trio, trio-websocket, selenium\n",
            "Successfully installed h11-0.14.0 outcome-1.3.0.post0 selenium-4.22.0 trio-0.25.1 trio-websocket-0.11.1 wsproto-1.2.0\n"
          ]
        }
      ]
    },
    {
      "cell_type": "code",
      "source": [
        "from selenium import webdriver\n",
        "from selenium.webdriver.common.by import By\n",
        "import time\n",
        "\n",
        "# Set up the WebDriver\n",
        "driver_path = 'path/to/chromedriver'  # Update this path\n",
        "driver = webdriver.Chrome(executable_path=driver_path)\n",
        "\n",
        "# Open Twitter search page\n",
        "query = \"Ethereum\"\n",
        "url = f\"https://twitter.com/search?q={query}&src=typed_query&f=live\"\n",
        "driver.get(url)\n",
        "\n",
        "# Scroll to load tweets\n",
        "time.sleep(3)  # Wait for the page to load\n",
        "for _ in range(5):  # Adjust the range to scroll more\n",
        "    driver.execute_script(\"window.scrollTo(0, document.body.scrollHeight);\")\n",
        "    time.sleep(2)  # Wait for new tweets to load\n",
        "\n",
        "# Parse tweets\n",
        "tweets = []\n",
        "tweet_elements = driver.find_elements(By.XPATH, '//div[@data-testid=\"tweet\"]/div[2]/div[2]/div[1]')\n",
        "for tweet in tweet_elements:\n",
        "    tweets.append(tweet.text)\n",
        "\n",
        "# Close the WebDriver\n",
        "driver.quit()\n",
        "\n",
        "# Print the tweets\n",
        "for tweet in tweets:\n",
        "    print(tweet)\n"
      ],
      "metadata": {
        "colab": {
          "base_uri": "https://localhost:8080/",
          "height": 211
        },
        "id": "n6GpOVN14gU2",
        "outputId": "281a3c8a-c19e-4961-ea18-8516defddda9"
      },
      "execution_count": null,
      "outputs": [
        {
          "output_type": "error",
          "ename": "TypeError",
          "evalue": "WebDriver.__init__() got an unexpected keyword argument 'executable_path'",
          "traceback": [
            "\u001b[0;31m---------------------------------------------------------------------------\u001b[0m",
            "\u001b[0;31mTypeError\u001b[0m                                 Traceback (most recent call last)",
            "\u001b[0;32m<ipython-input-11-c5f42b18a44a>\u001b[0m in \u001b[0;36m<cell line: 7>\u001b[0;34m()\u001b[0m\n\u001b[1;32m      5\u001b[0m \u001b[0;31m# Set up the WebDriver\u001b[0m\u001b[0;34m\u001b[0m\u001b[0;34m\u001b[0m\u001b[0m\n\u001b[1;32m      6\u001b[0m \u001b[0mdriver_path\u001b[0m \u001b[0;34m=\u001b[0m \u001b[0;34m'path/to/chromedriver'\u001b[0m  \u001b[0;31m# Update this path\u001b[0m\u001b[0;34m\u001b[0m\u001b[0;34m\u001b[0m\u001b[0m\n\u001b[0;32m----> 7\u001b[0;31m \u001b[0mdriver\u001b[0m \u001b[0;34m=\u001b[0m \u001b[0mwebdriver\u001b[0m\u001b[0;34m.\u001b[0m\u001b[0mChrome\u001b[0m\u001b[0;34m(\u001b[0m\u001b[0mexecutable_path\u001b[0m\u001b[0;34m=\u001b[0m\u001b[0mdriver_path\u001b[0m\u001b[0;34m)\u001b[0m\u001b[0;34m\u001b[0m\u001b[0;34m\u001b[0m\u001b[0m\n\u001b[0m\u001b[1;32m      8\u001b[0m \u001b[0;34m\u001b[0m\u001b[0m\n\u001b[1;32m      9\u001b[0m \u001b[0;31m# Open Twitter search page\u001b[0m\u001b[0;34m\u001b[0m\u001b[0;34m\u001b[0m\u001b[0m\n",
            "\u001b[0;31mTypeError\u001b[0m: WebDriver.__init__() got an unexpected keyword argument 'executable_path'"
          ]
        }
      ]
    },
    {
      "cell_type": "code",
      "source": [],
      "metadata": {
        "colab": {
          "base_uri": "https://localhost:8080/"
        },
        "id": "9dPXQyHe4gX4",
        "outputId": "ab3c49de-b374-4bc7-c61e-6890aa7480fc"
      },
      "execution_count": null,
      "outputs": [
        {
          "output_type": "execute_result",
          "data": {
            "text/plain": [
              "[]"
            ]
          },
          "metadata": {},
          "execution_count": 6
        }
      ]
    },
    {
      "cell_type": "code",
      "source": [],
      "metadata": {
        "id": "F28hPOJT4gay"
      },
      "execution_count": null,
      "outputs": []
    },
    {
      "cell_type": "code",
      "source": [],
      "metadata": {
        "id": "wg-flbMtdrNv"
      },
      "execution_count": null,
      "outputs": []
    },
    {
      "cell_type": "code",
      "source": [],
      "metadata": {
        "id": "drw3-AuBf7fX"
      },
      "execution_count": null,
      "outputs": []
    },
    {
      "cell_type": "code",
      "source": [],
      "metadata": {
        "id": "d78e3roIslLw"
      },
      "execution_count": null,
      "outputs": []
    }
  ]
}